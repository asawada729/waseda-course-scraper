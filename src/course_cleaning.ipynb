{
 "cells": [
  {
   "cell_type": "code",
   "execution_count": 1,
   "metadata": {},
   "outputs": [],
   "source": [
    "import pandas as pd\n",
    "import json\n",
    "import requests\n",
    "from ast import literal_eval"
   ]
  },
  {
   "cell_type": "code",
   "execution_count": 2,
   "metadata": {},
   "outputs": [
    {
     "name": "stdout",
     "output_type": "stream",
     "text": [
      "(9738, 16)\n"
     ]
    },
    {
     "data": {
      "text/html": [
       "<div>\n",
       "<style scoped>\n",
       "    .dataframe tbody tr th:only-of-type {\n",
       "        vertical-align: middle;\n",
       "    }\n",
       "\n",
       "    .dataframe tbody tr th {\n",
       "        vertical-align: top;\n",
       "    }\n",
       "\n",
       "    .dataframe thead th {\n",
       "        text-align: right;\n",
       "    }\n",
       "</style>\n",
       "<table border=\"1\" class=\"dataframe\">\n",
       "  <thead>\n",
       "    <tr style=\"text-align: right;\">\n",
       "      <th></th>\n",
       "      <th>academic_disciplines</th>\n",
       "      <th>campus</th>\n",
       "      <th>category</th>\n",
       "      <th>course_class_code</th>\n",
       "      <th>course_code</th>\n",
       "      <th>credits</th>\n",
       "      <th>eligible_year</th>\n",
       "      <th>instructors</th>\n",
       "      <th>level</th>\n",
       "      <th>main_language</th>\n",
       "      <th>school</th>\n",
       "      <th>sessions</th>\n",
       "      <th>syllabus_urls</th>\n",
       "      <th>term</th>\n",
       "      <th>title</th>\n",
       "      <th>year</th>\n",
       "    </tr>\n",
       "  </thead>\n",
       "  <tbody>\n",
       "    <tr>\n",
       "      <th>0</th>\n",
       "      <td>['Literature', 'Literature', 'Introduction']</td>\n",
       "      <td>waseda</td>\n",
       "      <td>Humanities</td>\n",
       "      <td>1</td>\n",
       "      <td>LITV101L</td>\n",
       "      <td>2.0</td>\n",
       "      <td>1st year and above</td>\n",
       "      <td>['YAGI, Naoko']</td>\n",
       "      <td>Beginner, initial or introductory</td>\n",
       "      <td>English</td>\n",
       "      <td>School of Political Science and Economics</td>\n",
       "      <td>[{'period': '4', 'classrooms': ['3-601'], 'day': 'Tues'}]</td>\n",
       "      <td>['https://www.wsl.waseda.jp/syllabus/JAA104.php?pLng=en&amp;pKey=11000012G101201911000012G111']</td>\n",
       "      <td>spring semester</td>\n",
       "      <td>World Literature [E] 01</td>\n",
       "      <td>2019</td>\n",
       "    </tr>\n",
       "    <tr>\n",
       "      <th>1</th>\n",
       "      <td>['Art Studies', 'Theatre', 'Others']</td>\n",
       "      <td>waseda</td>\n",
       "      <td>Humanities</td>\n",
       "      <td>1</td>\n",
       "      <td>ARTT181L</td>\n",
       "      <td>2.0</td>\n",
       "      <td>1st year and above</td>\n",
       "      <td>['YAGI, Naoko']</td>\n",
       "      <td>Beginner, initial or introductory</td>\n",
       "      <td>English</td>\n",
       "      <td>School of Political Science and Economics</td>\n",
       "      <td>[{'period': '4', 'classrooms': ['3-709'], 'day': 'Thur'}]</td>\n",
       "      <td>['https://www.wsl.waseda.jp/syllabus/JAA104.php?pLng=en&amp;pKey=11000012G301201911000012G311']</td>\n",
       "      <td>fall semester</td>\n",
       "      <td>Drama and Society [E] 01</td>\n",
       "      <td>2019</td>\n",
       "    </tr>\n",
       "    <tr>\n",
       "      <th>2</th>\n",
       "      <td>['Art Studies', 'Theatre', 'Others']</td>\n",
       "      <td>waseda</td>\n",
       "      <td>Seminarｓ: Intermediate Courses</td>\n",
       "      <td>1</td>\n",
       "      <td>ARTT281L</td>\n",
       "      <td>2.0</td>\n",
       "      <td>1st year and above</td>\n",
       "      <td>['JEWEL, Mark']</td>\n",
       "      <td>Intermediate, developmental and applicative</td>\n",
       "      <td>English</td>\n",
       "      <td>School of Political Science and Economics</td>\n",
       "      <td>[{'period': '3', 'classrooms': ['3-713'], 'day': 'Fri'}]</td>\n",
       "      <td>['https://www.wsl.waseda.jp/syllabus/JAA104.php?pLng=en&amp;pKey=1100001S160120191100001S1611']</td>\n",
       "      <td>fall semester</td>\n",
       "      <td>Intermediate Seminar (Postwar Japanese Fiction in English Translation) [E] 01</td>\n",
       "      <td>2019</td>\n",
       "    </tr>\n",
       "    <tr>\n",
       "      <th>3</th>\n",
       "      <td>['Art Studies', 'Theatre', 'Others']</td>\n",
       "      <td>waseda</td>\n",
       "      <td>Seminarｓ: Intermediate Courses</td>\n",
       "      <td>1</td>\n",
       "      <td>ARTT281L</td>\n",
       "      <td>2.0</td>\n",
       "      <td>1st year and above</td>\n",
       "      <td>['JEWEL, Mark']</td>\n",
       "      <td>Intermediate, developmental and applicative</td>\n",
       "      <td>English</td>\n",
       "      <td>School of Political Science and Economics</td>\n",
       "      <td>[{'period': '3', 'classrooms': ['3-812'], 'day': 'Mon'}]</td>\n",
       "      <td>['https://www.wsl.waseda.jp/syllabus/JAA104.php?pLng=en&amp;pKey=1100001S170120191100001S1711']</td>\n",
       "      <td>fall semester</td>\n",
       "      <td>Intermediate Seminar (Masters of Haiku) [E] 01</td>\n",
       "      <td>2019</td>\n",
       "    </tr>\n",
       "    <tr>\n",
       "      <th>4</th>\n",
       "      <td>['Art Studies', 'Theatre', 'Others']</td>\n",
       "      <td>waseda</td>\n",
       "      <td>Seminarｓ: Intermediate Courses</td>\n",
       "      <td>1</td>\n",
       "      <td>ARTT281L</td>\n",
       "      <td>2.0</td>\n",
       "      <td>2nd year and above</td>\n",
       "      <td>['JEWEL, Mark']</td>\n",
       "      <td>Intermediate, developmental and applicative</td>\n",
       "      <td>English</td>\n",
       "      <td>School of Political Science and Economics</td>\n",
       "      <td>[{'period': '3', 'classrooms': ['3-609'], 'day': 'Fri'}]</td>\n",
       "      <td>['https://www.wsl.waseda.jp/syllabus/JAA104.php?pLng=en&amp;pKey=1100001S180120191100001S1811']</td>\n",
       "      <td>spring semester</td>\n",
       "      <td>Intermediate Seminar (Prewar Japanese Fiction in English Translation) [E] 01</td>\n",
       "      <td>2019</td>\n",
       "    </tr>\n",
       "  </tbody>\n",
       "</table>\n",
       "</div>"
      ],
      "text/plain": [
       "                           academic_disciplines  campus  \\\n",
       "0  ['Literature', 'Literature', 'Introduction']  waseda   \n",
       "1          ['Art Studies', 'Theatre', 'Others']  waseda   \n",
       "2          ['Art Studies', 'Theatre', 'Others']  waseda   \n",
       "3          ['Art Studies', 'Theatre', 'Others']  waseda   \n",
       "4          ['Art Studies', 'Theatre', 'Others']  waseda   \n",
       "\n",
       "                         category course_class_code course_code  credits  \\\n",
       "0                      Humanities                 1    LITV101L      2.0   \n",
       "1                      Humanities                 1    ARTT181L      2.0   \n",
       "2  Seminarｓ: Intermediate Courses                 1    ARTT281L      2.0   \n",
       "3  Seminarｓ: Intermediate Courses                 1    ARTT281L      2.0   \n",
       "4  Seminarｓ: Intermediate Courses                 1    ARTT281L      2.0   \n",
       "\n",
       "        eligible_year      instructors  \\\n",
       "0  1st year and above  ['YAGI, Naoko']   \n",
       "1  1st year and above  ['YAGI, Naoko']   \n",
       "2  1st year and above  ['JEWEL, Mark']   \n",
       "3  1st year and above  ['JEWEL, Mark']   \n",
       "4  2nd year and above  ['JEWEL, Mark']   \n",
       "\n",
       "                                         level main_language  \\\n",
       "0            Beginner, initial or introductory       English   \n",
       "1            Beginner, initial or introductory       English   \n",
       "2  Intermediate, developmental and applicative       English   \n",
       "3  Intermediate, developmental and applicative       English   \n",
       "4  Intermediate, developmental and applicative       English   \n",
       "\n",
       "                                      school  \\\n",
       "0  School of Political Science and Economics   \n",
       "1  School of Political Science and Economics   \n",
       "2  School of Political Science and Economics   \n",
       "3  School of Political Science and Economics   \n",
       "4  School of Political Science and Economics   \n",
       "\n",
       "                                                    sessions  \\\n",
       "0  [{'period': '4', 'classrooms': ['3-601'], 'day': 'Tues'}]   \n",
       "1  [{'period': '4', 'classrooms': ['3-709'], 'day': 'Thur'}]   \n",
       "2   [{'period': '3', 'classrooms': ['3-713'], 'day': 'Fri'}]   \n",
       "3   [{'period': '3', 'classrooms': ['3-812'], 'day': 'Mon'}]   \n",
       "4   [{'period': '3', 'classrooms': ['3-609'], 'day': 'Fri'}]   \n",
       "\n",
       "                                                                                 syllabus_urls  \\\n",
       "0  ['https://www.wsl.waseda.jp/syllabus/JAA104.php?pLng=en&pKey=11000012G101201911000012G111']   \n",
       "1  ['https://www.wsl.waseda.jp/syllabus/JAA104.php?pLng=en&pKey=11000012G301201911000012G311']   \n",
       "2  ['https://www.wsl.waseda.jp/syllabus/JAA104.php?pLng=en&pKey=1100001S160120191100001S1611']   \n",
       "3  ['https://www.wsl.waseda.jp/syllabus/JAA104.php?pLng=en&pKey=1100001S170120191100001S1711']   \n",
       "4  ['https://www.wsl.waseda.jp/syllabus/JAA104.php?pLng=en&pKey=1100001S180120191100001S1811']   \n",
       "\n",
       "              term  \\\n",
       "0  spring semester   \n",
       "1    fall semester   \n",
       "2    fall semester   \n",
       "3    fall semester   \n",
       "4  spring semester   \n",
       "\n",
       "                                                                           title  \\\n",
       "0                                                        World Literature [E] 01   \n",
       "1                                                       Drama and Society [E] 01   \n",
       "2  Intermediate Seminar (Postwar Japanese Fiction in English Translation) [E] 01   \n",
       "3                                 Intermediate Seminar (Masters of Haiku) [E] 01   \n",
       "4   Intermediate Seminar (Prewar Japanese Fiction in English Translation) [E] 01   \n",
       "\n",
       "   year  \n",
       "0  2019  \n",
       "1  2019  \n",
       "2  2019  \n",
       "3  2019  \n",
       "4  2019  "
      ]
     },
     "execution_count": 2,
     "metadata": {},
     "output_type": "execute_result"
    }
   ],
   "source": [
    "pd.set_option(\"max_colwidth\", 1000)\n",
    "data = pd.read_csv(\"course_list.csv\", index_col=0)\n",
    "print(data.shape)\n",
    "data.head()"
   ]
  },
  {
   "cell_type": "code",
   "execution_count": 3,
   "metadata": {},
   "outputs": [],
   "source": [
    "data[\"academic_disciplines\"] = data[\"academic_disciplines\"].apply(literal_eval)\n",
    "data[\"instructors\"] = data[\"instructors\"].apply(literal_eval)\n",
    "data[\"sessions\"] = data[\"sessions\"].apply(literal_eval)\n",
    "data[\"schools\"] = data[\"school\"].apply(lambda x : [x])\n",
    "data[\"syllabus_url\"] = data[\"syllabus_urls\"].apply(literal_eval).apply(lambda x : x[0])\n",
    "data = data.drop(columns=[\"syllabus_urls\", \"school\"])\n",
    "\n",
    "data[\"year\"] = data[\"year\"].apply(str)\n",
    "data = data.fillna(\"\\u00a0\")"
   ]
  },
  {
   "cell_type": "code",
   "execution_count": 4,
   "metadata": {},
   "outputs": [],
   "source": [
    "assert len(data.iloc[[0]][\"sessions\"]) == 1"
   ]
  },
  {
   "cell_type": "code",
   "execution_count": 5,
   "metadata": {
    "scrolled": true
   },
   "outputs": [],
   "source": [
    "seen_courses = {}\n",
    "for index, row in data.iterrows() :\n",
    "    serial = str(row[\"title\"]) + str(row[\"sessions\"]) + str(row[\"term\"]) + str(row[\"instructors\"])\n",
    "    if serial in seen_courses.keys() :\n",
    "        if data.loc[[index]][\"schools\"].tolist()[0][0] not in data.loc[[seen_courses[serial]]][\"schools\"].tolist()[0] :\n",
    "            data.loc[[seen_courses[serial]]][\"schools\"] = pd.Series(data.loc[[seen_courses[serial]]][\"schools\"].tolist()[0].append(data.loc[[index]][\"schools\"].tolist()[0][0]))\n",
    "        data = data.drop([index])\n",
    "    else :\n",
    "        seen_courses[serial] = index\n",
    "    "
   ]
  },
  {
   "cell_type": "code",
   "execution_count": 6,
   "metadata": {},
   "outputs": [],
   "source": [
    "assert data.loc[data[\"title\"] == \"Signal Processing\"].shape[0] == 1\n",
    "assert data.loc[data[\"title\"] == \"Calculus A\"].shape[0] == 1"
   ]
  },
  {
   "cell_type": "code",
   "execution_count": 7,
   "metadata": {},
   "outputs": [
    {
     "data": {
      "text/plain": [
       "academic_disciplines     object\n",
       "campus                   object\n",
       "category                 object\n",
       "course_class_code        object\n",
       "course_code              object\n",
       "credits                 float64\n",
       "eligible_year            object\n",
       "instructors              object\n",
       "level                    object\n",
       "main_language            object\n",
       "sessions                 object\n",
       "term                     object\n",
       "title                    object\n",
       "year                     object\n",
       "schools                  object\n",
       "syllabus_url             object\n",
       "dtype: object"
      ]
     },
     "execution_count": 7,
     "metadata": {},
     "output_type": "execute_result"
    }
   ],
   "source": [
    "data.dtypes"
   ]
  },
  {
   "cell_type": "code",
   "execution_count": 8,
   "metadata": {},
   "outputs": [
    {
     "name": "stdout",
     "output_type": "stream",
     "text": [
      "academic_disciplines    0\n",
      "campus                  0\n",
      "category                0\n",
      "course_class_code       0\n",
      "course_code             0\n",
      "credits                 0\n",
      "eligible_year           0\n",
      "instructors             0\n",
      "level                   0\n",
      "main_language           0\n",
      "sessions                0\n",
      "term                    0\n",
      "title                   0\n",
      "year                    0\n",
      "schools                 0\n",
      "syllabus_url            0\n",
      "dtype: int64\n"
     ]
    }
   ],
   "source": [
    "print(data.isnull().sum(axis=0))"
   ]
  },
  {
   "cell_type": "code",
   "execution_count": 9,
   "metadata": {},
   "outputs": [
    {
     "name": "stdout",
     "output_type": "stream",
     "text": [
      "In academic_disciplines,  max list length:  3\n",
      "max str length:  80 \n",
      "\n",
      "In campus, max str length:  27 \n",
      "\n",
      "In category, max str length:  83 \n",
      "\n",
      "In course_code, max str length:  8 \n",
      "\n",
      "In instructors, max list length:  43\n",
      "max str length:  43 \n",
      "\n",
      "In title, max str length:  127\n",
      "In schools,  max list length:  3\n",
      "max str length:  66 \n",
      "\n"
     ]
    }
   ],
   "source": [
    "print(\"In academic_disciplines,  max list length: \", data[\"academic_disciplines\"].str.len().max())\n",
    "print(\"max str length: \", data[\"academic_disciplines\"].apply(lambda x: max([len(item) for item in x])).max(), \"\\n\")\n",
    "print(\"In campus, max str length: \", data[\"campus\"].str.len().max(), \"\\n\")\n",
    "print(\"In category, max str length: \", data[\"category\"].str.len().max(), \"\\n\")\n",
    "print(\"In course_code, max str length: \", data[\"course_code\"].str.len().max(), \"\\n\")\n",
    "print(\"In instructors, max list length: \", data[\"instructors\"].str.len().max())\n",
    "print(\"max str length: \", data[\"instructors\"].apply(lambda x: max([len(item) for item in x])).max(), \"\\n\")\n",
    "print(\"In title, max str length: \", data[\"title\"].str.len().max())\n",
    "print(\"In schools,  max list length: \", data[\"schools\"].str.len().max())\n",
    "print(\"max str length: \", data[\"schools\"].apply(lambda x: max([len(item) for item in x])).max(), \"\\n\")"
   ]
  },
  {
   "cell_type": "code",
   "execution_count": 17,
   "metadata": {},
   "outputs": [],
   "source": [
    "def write_to_local(data) :\n",
    "    data.to_csv(\"course_list_cleaned.csv\")"
   ]
  },
  {
   "cell_type": "code",
   "execution_count": 11,
   "metadata": {},
   "outputs": [
    {
     "name": "stdout",
     "output_type": "stream",
     "text": [
      "(7727, 16)\n"
     ]
    }
   ],
   "source": [
    "print(data.shape)\n",
    "\n",
    "write_to_local(data)"
   ]
  },
  {
   "cell_type": "code",
   "execution_count": null,
   "metadata": {},
   "outputs": [],
   "source": []
  }
 ],
 "metadata": {
  "kernelspec": {
   "display_name": "Python 3",
   "language": "python",
   "name": "python3"
  },
  "language_info": {
   "codemirror_mode": {
    "name": "ipython",
    "version": 3
   },
   "file_extension": ".py",
   "mimetype": "text/x-python",
   "name": "python",
   "nbconvert_exporter": "python",
   "pygments_lexer": "ipython3",
   "version": "3.5.2"
  }
 },
 "nbformat": 4,
 "nbformat_minor": 2
}
